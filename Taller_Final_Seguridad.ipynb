{
 "cells": [
  {
   "cell_type": "markdown",
   "metadata": {},
   "source": [
    "<center>\n",
    "    <img src=\"https://www.redeszone.net/app/uploads-redeszone.net/2020/05/iniciar-sesion-seguridad.jpg\" width=\"300\" alt=\"cognitiveclass.ai logo\"  />\n",
    "</center>\n",
    "\n",
    "# Taller Final Clase Seguridad de la Información\n",
    "\n",
    "# Presentado por :\n",
    "    * David German Gutierrez\n",
    "    * Leidy Magalay Suarez\n",
    "    * Camilo Andres Navarrete\n",
    "\n",
    "## Objetivos\n",
    "\n",
    "Realizar la presentación de los dos talleres y el articulo citados a continuación:\n",
    "\n",
    "*   1. Práctica de laboratorio: Comparar datos con un hash.\n",
    "*   2. Práctica de laboratorio: Respaldar datos en un almacenamiento externo. \n",
    "*   3. Analisis Articulo Ransomware.\n",
    "\n"
   ]
  },
  {
   "cell_type": "markdown",
   "metadata": {},
   "source": [
    "<h2 id=\"hello\">Práctica de laboratorio: Comparar datos con un hash</h2>\n",
    "<h3>Objetivos</h3>"
   ]
  },
  {
   "cell_type": "markdown",
   "metadata": {},
   "source": [
    "Use un programa de hash para comprobar la integridad de los datos."
   ]
  },
  {
   "cell_type": "markdown",
   "metadata": {},
   "source": [
    "<h3>Aspectos básicos/situación</h3>\n",
    "Es importante saber si los datos fueron dañados o manipulados. Para comprobar si los datos fueron cambiados o si permanecen igual, puede usarse un programa de hash. Un programa de hash realiza una función hash en datos o en un archivo, lo cual devuelve un valor (generalmente, mucho más corto). Hay varias funciones hash distintas, algunas muy simples y otras muy complejas. Cuando se ejecuta el mismo hash en los mismos datos, el valor devuelto es siempre el mismo. Si se implementa algún cambio en los datos, el valor hash devuelto será diferente.\n",
    "\n",
    "<br>Nota:</br> Necesitará privilegios de instalación y algunos conocimientos sobre el proceso para instalar programas de Windows."
   ]
  },
  {
   "cell_type": "markdown",
   "metadata": {},
   "source": [
    "<h3>Recursos necesarios</h3>\n",
    "Computadora con acceso a Internet"
   ]
  },
  {
   "cell_type": "markdown",
   "metadata": {},
   "source": [
    "<h3>Paso 1: Crear un archivo de texto</h3>\n",
    "a. Busque en su equipo el programa Bloc de notas y ábralo.\n",
    "\n",
    "b. Escriba algún texto en el programa.\n",
    "\n",
    "<br>\n",
    "<center>\n",
    "    <img src=\"https://nam12.safelinks.protection.outlook.com/?url=https%3A%2F%2Fraw.githubusercontent.com%2FCAM9415%2FTallerSeguridad%2Fmain%2Fimgenes%2F1.PNG&data=05%7C01%7C%7C717c494b9a0b400625f908dabf61b2b1%7C84df9e7fe9f640afb435aaaaaaaaaaaa%7C1%7C0%7C638032723580469149%7CUnknown%7CTWFpbGZsb3d8eyJWIjoiMC4wLjAwMDAiLCJQIjoiV2luMzIiLCJBTiI6Ik1haWwiLCJXVCI6Mn0%3D%7C3000%7C%7C%7C&sdata=4BewJQsSL%2BQmb8fr5%2BXvNugXrHbEy4RJG94h7Rl0Ixw%3D&reserved=0\" width=\"500\" alt=\"300\"  />\n",
    "</center>\n",
    "</br>\n",
    "c. Elija Archivo > Guardar.\n",
    "\n",
    "d. Navegue hasta Escritorio.\n",
    "\n",
    "e. Escriba Hash en el campo Nombre de archivo: y haga clic en Guardar."
   ]
  },
  {
   "cell_type": "markdown",
   "metadata": {},
   "source": [
    "<h3>Paso 2: Instalar HashCal</h3>\n",
    "a. Abra un navegador web y vaya a <code>http://www.slavasoft.com/download.html</code>\n",
    "\n",
    "<br>\n",
    "<br>\n",
    "<center>\n",
    "    <img src=\"https://raw.githubusercontent.com/CAM9415/TallerSeguridad/main/imgenes/2.PNG\" width=\"500\" alt=\"cognitiveclass.ai logo\"  />\n",
    "</center>\n",
    "</br>\n",
    "</br>\n",
    "\n",
    "b. Haga clic en Descargar en la fila HashCalc 2.02.\n",
    "\n",
    "c. Abra el archivo hashcalc.zip y ejecute el archivo setup.exe que está en su interior.\n",
    "\n",
    "<br>\n",
    "<center>\n",
    "    <img src=\"https://raw.githubusercontent.com/CAM9415/TallerSeguridad/main/imgenes/3.PNG\" width=\"500\" alt=\"cognitiveclass.ai logo\"  />\n",
    "</center>\n",
    "</br>\n",
    "\n",
    "d. Siga el asistente de instalación para instalar HashCalc.\n",
    "\n",
    "e. Haga clic en Finalizar en la última pantalla y cierre el archivo README si está abierto. Puede leer el archivo, si lo desea.\n",
    "\n",
    "<br>\n",
    "<center>\n",
    "    <img src=\"https://raw.githubusercontent.com/CAM9415/TallerSeguridad/main/imgenes/4.PNG\" width=\"500\" alt=\"cognitiveclass.ai logo\"  />\n",
    "</center>\n",
    "</br>\n",
    "\n",
    "f. HashCalc ahora está instalado y en funcionamiento."
   ]
  },
  {
   "cell_type": "markdown",
   "metadata": {},
   "source": [
    "<h3>Paso 3: Calcular un hash del archivo Hash.txt</H3>\n",
    "\n",
    "a. Establezca los siguientes elementos en HashCalc:\n",
    "\n",
    "1. Formato de los datos: Archivo.\n",
    "\n",
    "2. Datos: haga clic en el botón … que está junto al campo Datos, navegue hasta el Escritorio y elija el archivo Hash.txt.\n",
    "\n",
    "3. Quite la selección de HMAC.\n",
    "\n",
    "4. Quite la selección de todos los tipos de hash, excepto MD5.\n",
    "\n",
    "<br>\n",
    "<center>\n",
    "    <img src=\"https://raw.githubusercontent.com/CAM9415/TallerSeguridad/main/imgenes/5.PNG\" width=\"800\" alt=\"cognitiveclass.ai logo\"  />\n",
    "</center>\n",
    "</br>\n",
    "<br>\n",
    "<center>\n",
    "    <img src=\"https://raw.githubusercontent.com/CAM9415/TallerSeguridad/main/imgenes/6.PNG\" width=\"400\" alt=\"cognitiveclass.ai logo\"  />\n",
    "</center>\n",
    "</br>\n",
    "\n",
    "b. Haga clic en el botón Calcular.\n",
    "\n",
    "¿Cuál es el valor junto a MD5?\n",
    "\n",
    "<br>\n",
    "<center>\n",
    "    <img src=\"https://raw.githubusercontent.com/CAM9415/TallerSeguridad/main/imgenes/7.PNG\" width=\"500\" alt=\"cognitiveclass.ai logo\"  />\n",
    "</center>\n",
    "</br>"
   ]
  },
  {
   "cell_type": "markdown",
   "metadata": {},
   "source": [
    "<h3>Paso 4: Haga un cambio en el archivo Hash.txt</H3>\n",
    "\n",
    "a. Navegue hasta el Escritorio y abra el archivo Hash.txt.\n",
    "\n",
    "b. Realice un cambio menor en el texto, como eliminar una letra, o agregar un espacio o un punto.\n",
    "\n",
    "c. Haga clic en Archivo > Guardar y cierre el Bloc de notas\n",
    "\n",
    "<br>\n",
    "<center>\n",
    "    <img src=\"https://raw.githubusercontent.com/CAM9415/TallerSeguridad/main/imgenes/8.PNG\" width=\"700\" alt=\"cognitiveclass.ai logo\"  />\n",
    "</center>\n",
    "</br>"
   ]
  },
  {
   "cell_type": "markdown",
   "metadata": {},
   "source": [
    "<h3>Paso 5: Calcule un nuevo hash del archivo Hash.txt</h3>\n",
    "\n",
    "a. Haga clic en el botón Calcular en HashCalc nuevamente.\n",
    "\n",
    "¿Cuál es el valor junto a MD5?\n",
    "\n",
    "<br>\n",
    "<center>\n",
    "    <img src=\"https://raw.githubusercontent.com/CAM9415/TallerSeguridad/main/imgenes/9.PNG\" width=\"500\" alt=\"cognitiveclass.ai logo\"  />\n",
    "</center>\n",
    "</br>"
   ]
  },
  {
   "cell_type": "markdown",
   "metadata": {},
   "source": [
    "¿El valor es diferente del valor registrado en el paso 3?\n",
    "\n",
    "<code>Respuesta Por supuesto que si el valor cambio totalmente una vez se realizaron los cambios y se volvió a calcular el HASH</code>\n",
    "\n",
    "b. Coloque una marca junto a todos los tipos de hash\n",
    "\n",
    "<br>\n",
    "<center>\n",
    "    <img src=\"https://raw.githubusercontent.com/CAM9415/TallerSeguridad/main/imgenes/10.PNG\" width=\"150\" alt=\"cognitiveclass.ai logo\"  />\n",
    "</center>\n",
    "</br>\n",
    "\n",
    "c. Haga clic en Calcular.\n",
    "\n",
    "<br>\n",
    "<center>\n",
    "    <img src=\"https://raw.githubusercontent.com/CAM9415/TallerSeguridad/main/imgenes/11.PNG\" width=\"700\" alt=\"cognitiveclass.ai logo\"  />\n",
    "</center>\n",
    "</br>"
   ]
  },
  {
   "cell_type": "markdown",
   "metadata": {},
   "source": [
    "d. Fíjese cómo muchos de los tipos de hash crean un hash de longitud diferente. ¿Por qué?\n",
    "\n",
    "<code>La longitud de este hash es diferente y varia por el tamaño de bits de salida que cada uno de estos soporta.</code>"
   ]
  },
  {
   "cell_type": "markdown",
   "metadata": {},
   "source": [
    "________________________________________________________________________________________________________________"
   ]
  },
  {
   "cell_type": "markdown",
   "metadata": {},
   "source": [
    "<h2 id=\"hello\">Práctica de laboratorio: Respaldar datos en un almacenamiento externo </h2>"
   ]
  },
  {
   "cell_type": "markdown",
   "metadata": {},
   "source": [
    "<H4>Respaldo en un disco externo local </H4>\n",
    "\n",
    "<code>Paso 1 Para comenzar con Historial de archivos en Windows 8.1, siga estos pasos: \n",
    "\n",
    "* 1. Conecte una unidad externa. \n",
    "\n",
    "* 2. Active Historial de archivos usando esta ruta: \n",
    "\n",
    "     <H4> Panel de control > Historial de archivos > clic en Activar </H4>\n",
    "</code>\n",
    "\n",
    "<br>\n",
    "<center>\n",
    "    <img src=\"https://raw.githubusercontent.com/CAM9415/TallerSeguridad/main/imgenes/12.PNG\" width=\"700\" alt=\"cognitiveclass.ai logo\"  />\n",
    "</center>\n",
    "</br>\n",
    "\n",
    " Paso 2 :Respaldo de las carpetas Documentos e Imágenes \n",
    "\n",
    "Ahora que el disco externo está conectado y usted sabe cómo encontrar la herramienta de copia de respaldo, configúrela para realizar un respaldo de las carpetas Documentos e Imágenes todos los días, a las 03:00. \n",
    "\n",
    "Abra Copias de seguridad y restauración (Windows 7) o Historial de archivos (Windows 8.x). \n",
    "\n",
    "Seleccione el disco externo que desea usar para almacenar el respaldo. \n",
    "\n",
    "<br>\n",
    "<center>\n",
    "    <img src=\"https://raw.githubusercontent.com/CAM9415/TallerSeguridad/main/imgenes/14.PNG\" width=\"700\" alt=\"cognitiveclass.ai logo\"  />\n",
    "</center>\n",
    "</br>\n",
    "\n",
    "Especifique lo que desea que se almacene en el disco como respaldo. Para este laboratorio, elija las carpetas Documentos e Imágenes. \n",
    "\n",
    "\n",
    "Establezca un programa de respaldo. Para este laboratorio, use diariamente a las 03:00. \n",
    "<br>\n",
    "<center>\n",
    "    <img src=\"https://raw.githubusercontent.com/CAM9415/TallerSeguridad/main/imgenes/15.PNG\" width=\"700\" alt=\"cognitiveclass.ai logo\"  />\n",
    "</center>\n",
    "</br>\n",
    "\n",
    "¿Por qué elegiría realizar respaldos a las 03:00? \n",
    "\n",
    "<code>Porque es probable que tenga poco uso de los usuarios a esta hora y se espera que se genere poco o ningún impacto en las operaciones del usuario.</code>\n",
    "\n",
    "\n",
    "\n",
    "<H4>Respaldo en un disco remoto</H4> \n",
    "\n",
    "1. Introducción a los servicios de respaldo basados en la nube \n",
    "\n",
    "Otra opción para un destino de respaldo es un disco remoto. Podría ser un servicio completo en la nube o, simplemente, una NAS conectada a la red; los respaldos remotos también son muy comunes. \n",
    "\n",
    " * Enumere algunos servicios de respaldo basados en la nube. \n",
    "\n",
    "<code>Dropbox, Microsoft OneDrive, Google Drive, Apple iCloud, Amazon AWS. </code>\n",
    "\n",
    " \n",
    "\n",
    "2. Investigue los servicios que detalló anteriormente. ¿Son gratuitos? \n",
    "\n",
    " \n",
    "<Code>Dropbox, Microsoft OneDrive, Google Drive y Apple iCloud son gratuitos para una cantidad pequeña y limitada de almacenamiento. Si el usuario necesita más espacio de almacenamiento, debe pagar una tarifa mensual o anual  </code>\n",
    "\n",
    "3. ¿Los servicios que detalló dependen de una plataforma específica? \n",
    "\n",
    "<code>La mayor parte de los servicios de respaldo en la nube no dependen de una plataforma y tienen interfaces web o clientes disponibles en todas las plataformas principales. </code>\n",
    "\n",
    "\n",
    "4. ¿Puede acceder a sus datos desde todos los dispositivos que posee (equipo de escritorio, portátil, tableta y teléfono)? \n",
    "\n",
    "<code>Sí. La mayor parte de los servicios de respaldo basados en la nube tienen clientes para todas las plataformas informáticas. </code>\n",
    "\n",
    "<H4>Uso de Copias de seguridad y restauración para realizar respaldos de datos en la nube </H4>\n",
    "\n",
    "Elija un servicio que satisfaga sus necesidades y realice un respaldo de su carpeta Documentos en la nube. Tenga en cuenta que Dropbox y OneDrive le permiten crear una carpeta en su equipo que actúa como un enlace a la unidad en la nube. Una vez creada, los archivos copiados a dicha carpeta son cargados automáticamente a la nube por el cliente de servicio en la nube que siempre está en ejecución. Esta configuración es muy práctica porque puede usar cualquier herramienta de respaldo de su preferencia para programar respaldos en la nube. Para usar Copias de seguridad y restauración de Windows a fin de realizar respaldos de sus archivos en Dropbox, siga estos pasos: \n",
    "\n",
    "Visite http://dropbox.com e inscríbase para tener una cuenta de Dropbox gratuita. \n",
    "\n",
    "* a. Dropbox es el espacio para todo tu trabajo. Puedes almacenar y compartir archivos, colaborar en proyectos y dar vida a tus ideas. Y todo esto en solitario o con compañeros y clientes. Con Dropbox, todos tus archivos también están en la nube y disponibles en línea. \n",
    "\n",
    "* b. Una vez creada la cuenta, Dropbox mostrará todos los archivos almacenados en su cuenta. Haga clic en su nombre y en Instalar para descargar e instalar el cliente Dropbox adecuado para su sistema operativo. \n",
    "\n",
    "* c. Abra el programa descargado para instalar el cliente. \n",
    "\n",
    "* d. Tras completarse la instalación, el cliente Dropbox creará una carpeta con el nombre Dropbox dentro de su carpeta Inicio. Tenga en cuenta que los archivos copiados en la carpeta recientemente creada se copiarán automáticamente en los servidores alojados en la nube de Dropbox.\n",
    "\n",
    "<br>\n",
    "<center>\n",
    "    <img src=\"https://raw.githubusercontent.com/CAM9415/TallerSeguridad/main/imgenes/13.PNG\" width=\"700\" alt=\"cognitiveclass.ai logo\"  />\n",
    "</center>\n",
    "</br>\n",
    "\n",
    "<h4>Reflexión</h4> \n",
    "\n",
    "1. ¿Cuáles son las ventajas de realizar respaldos de los datos en un disco externo local? \n",
    "<code>Los respaldos locales están completamente bajo el control del usuario y ningún tercero tiene acceso a los datos. Los respaldos locales siempre están disponibles ya que no dependen de una conexión a Internet. </code>\n",
    "\n",
    "2. ¿Cuáles son las desventajas de realizar respaldos de los datos en un disco externo local? \n",
    "<code>Deben tomarse medidas si el usuario desea/necesita tener acceso a los datos de otros dispositivos o ubicaciones. En caso de un desastre, como un incendio o una inundación, los discos de respaldo locales también corren riesgo. </code>\n",
    "\n",
    "3. ¿Cuáles son las ventajas de realizar respaldos de datos en un disco basado en la nube? \n",
    "<code>Dado que los datos se replican a una ubicación fuera de la empresa, son más resistentes a los desastres. </code>\n",
    "\n",
    "4. ¿Cuáles son las desventajas de realizar respaldos de datos en un disco basado en la nube? \n",
    "<code>Los datos ahora están bajo el cuidado de una empresa de terceros. Esta empresa puede leer y acceder a los datos. Además, si la cantidad de datos es alta, debe pagarse una tarifa de almacenamiento. </code>"
   ]
  },
  {
   "cell_type": "markdown",
   "metadata": {},
   "source": [
    "__________________________________________________________________________________________________"
   ]
  },
  {
   "cell_type": "markdown",
   "metadata": {},
   "source": [
    "<H2>Analisis Costos Globales de Daños por Ransomware</h2>\n",
    "\n",
    "<h3>¿Que es Ransomware?</h3>\n",
    "<br>\n",
    "<Center>\n",
    "    <img src=\"https://latam.kaspersky.com/content/es-mx/images/repository/isc/2021/ransomware.jpg\" width=\"250\" alt=\"cognitiveclass.ai logo\"  />\n",
    "</center>\n",
    "</br>\n",
    "El ransomware es un tipo de malware (programa malicioso) , que infiltra un computador y que secuestra los datos y hace que se deje de utilizar el ordenador y a cambio de liberarlo para que se pueda seguir usando se debe pagar una recompensa."
   ]
  },
  {
   "cell_type": "markdown",
   "metadata": {},
   "source": [
    "De acuerdo con el articulo los montos de perdidas producidas por ransomware vienen en aumento en una proporción que solo puede definirse como exponencial, un estimado de Cybersecurity Ventures predecía que este tipo de crímenes creció 15 veces en solo dos años y esperan que <code>57</code> veces en un periodo no mayor a 5 años.\n",
    "\n",
    "<center>\n",
    "    <img src=\"https://cybercrimemag.wpenginepowered.com/wp-content/uploads/2021/06/Ransomware-Data-Graphic.jpg\" width=\"500\" alt=\"cognitiveclass.ai logo\"  />\n",
    "</center>\n",
    "\n",
    "Por ejemplo, solo en el año 2020 el FBI estimo que se perdieron alrededor de $29,1 millones de dólares y esos son solo las cifras de los casos que se pudieron mapear porque las victimas denunciaron, en muchos otros casos las víctimas se limitaron a realizar el pago de la extorción para poder recuperar el control de sus datos.\n"
   ]
  },
  {
   "cell_type": "markdown",
   "metadata": {},
   "source": [
    "<h3>¿Porque es tan peligroso?</h3>\n",
    "\n",
    "<center>\n",
    "    <img src=\"https://www.pantallasamigas.net/wp-content/uploads/2010/10/crackers-pantallasamigas.jpg\" width=\"400\" alt=\"cognitiveclass.ai logo\"  />\n",
    "</center>\n",
    "\n",
    "\n",
    "Se considera que es peligroso porque a pesar de que las autoridades alrededor del mundo han detenido varios grupos dedicados a este delito, lo cierto es que muy fácil que el ransomware infecte la red de una empresa, pues basta con que una persona de click en un correo que parce ser fiable pero que no lo es, y que puede hacer que una empresa no tenga servicio hasta por 6 horas.\n",
    "\n",
    "El problema no solo para ahí, porque no es solo pagar la primera extorción muchas veces los delincuentes cobran por desbloquear los datos y además cobran por no hacerlos públicos, esto se ve sobre todo en el caso de las personas naturales debes pagar por desbloquear los datos y después te extorsionan para no publicar algún tipo de información privada al público.\n"
   ]
  },
  {
   "cell_type": "markdown",
   "metadata": {},
   "source": [
    "<h3>Otras Implicaciones de Ransomeware</h3>\n",
    "\n",
    "<h3>IOT</h3>\n",
    "\n",
    "<center>\n",
    "    <img src=\"https://thestartupstimes.com/wp-content/uploads/2020/05/IoTnube-scaled.jpg\" width=\"450\" alt=\"cognitiveclass.ai logo\"  />\n",
    "</center>\n",
    "\n",
    "Otro problema de este tipo de ataques y sus implicaciones es que cada vez hay más dispositivos de <code>IOT</code> en todas las industrias como por ejemplo los dispositivos médicos o las computadoras de los cehiculos conectados a internet, los cuales podrían llegar a ser vulnerables a ataques cibernéticos de tipo ransomeware.\n",
    "\n",
    "Este tipo de peligros se aumenta debido a las diferencias entre las características de cada proveedor, lo que hace muy difícil crear una defensa estándar contra este tipo de ataques y que por consiguiente crea riesgos no solo de extorción sino hasta de peligro de muerte para la víctima.\n",
    "\n",
    "<h3>Geopolítica</h3>\n",
    "\n",
    "<center>\n",
    "    <img src=\"https://image.shutterstock.com/image-illustration/abstract-map-continents-globalization-geopolitics-260nw-1843248952.jpg\" width=\"450\" alt=\"cognitiveclass.ai logo\"  />\n",
    "</center>\n",
    "\n",
    "Ahora bien, la utilización de ransomware está empezando a dejar de ser algo exclusivo de delincuentes para ser usado de forma extraoficial por algunas naciones para atacar infraestructuras militares o comerciales de una nación. Este tipo de ataques que pueden llegar a ser extremadamente dañinos para un país y su gente terminan siendo uno de los peligros más grandes del ransomware sobre todo por ser un tipo de guerra que no está reglamentada por los protocolos internacionales como si lo está la guerra convencional."
   ]
  }
 ],
 "metadata": {
  "kernelspec": {
   "display_name": "Python 3.10.7 64-bit",
   "language": "python",
   "name": "python3"
  },
  "language_info": {
   "codemirror_mode": {
    "name": "ipython",
    "version": 3
   },
   "file_extension": ".py",
   "mimetype": "text/x-python",
   "name": "python",
   "nbconvert_exporter": "python",
   "pygments_lexer": "ipython3",
   "version": "3.10.7"
  },
  "vscode": {
   "interpreter": {
    "hash": "8428b73e643d01d0d2525dc7b2d144d7478265925000bb929d4aab60f44017f9"
   }
  }
 },
 "nbformat": 4,
 "nbformat_minor": 4
}
